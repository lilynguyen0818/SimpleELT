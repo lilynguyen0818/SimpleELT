{
 "cells": [
  {
   "cell_type": "code",
   "execution_count": 13,
   "metadata": {
    "id": "nkDwMhq3eIN9"
   },
   "outputs": [],
   "source": [
    "import requests\n",
    "from bs4 import BeautifulSoup\n",
    "import pandas as pd \n",
    "import re\n",
    "import datetime\n",
    "import time\n",
    "import json\n",
    "from __future__ import print_function\n",
    "import mysql.connector\n",
    "from mysql.connector import errorcode"
   ]
  },
  {
   "cell_type": "markdown",
   "metadata": {},
   "source": [
    "## Create a function to crawl information of binance from a website"
   ]
  },
  {
   "cell_type": "code",
   "execution_count": 6,
   "metadata": {
    "id": "GjyzoUP9FjeG"
   },
   "outputs": [],
   "source": [
    "def crawl_btc_price():\n",
    "    res = requests.get('https://www.binance.com/en/trade/BTC_BUSD?_from=markets&theme=dark&type=spot')\n",
    "    #find the btc price using group 'digit.digit | BTCBUSD'\n",
    "    btc_price = float(re.findall(r'\\d+.\\d+ | BTCBUSD', res.text)[0].split(\" \")[0])\n",
    "    now = datetime.datetime.now()\n",
    "    dt_string = now.strftime(\"%d/%m/%Y %H:%M:%S\")\n",
    "    btc_info = {'Symbol':'BTC','Price':btc_price,'Updated_At':dt_string}\n",
    "    res.close()\n",
    "    return btc_info"
   ]
  },
  {
   "cell_type": "markdown",
   "metadata": {},
   "source": [
    "## Run the crawling function in 3 hours and place the output into a list"
   ]
  },
  {
   "cell_type": "code",
   "execution_count": 10,
   "metadata": {
    "id": "sPSqtztpiJSc"
   },
   "outputs": [
    {
     "name": "stdout",
     "output_type": "stream",
     "text": [
      "{'Symbol': 'BTC', 'Price': 16745.89, 'Updated_At': '19/12/2022 11:46:16'}\n",
      "{'Symbol': 'BTC', 'Price': 16748.58, 'Updated_At': '19/12/2022 11:48:17'}\n",
      "{'Symbol': 'BTC', 'Price': 16769.0, 'Updated_At': '19/12/2022 11:50:19'}\n",
      "{'Symbol': 'BTC', 'Price': 16751.92, 'Updated_At': '19/12/2022 11:52:20'}\n",
      "{'Symbol': 'BTC', 'Price': 16751.09, 'Updated_At': '19/12/2022 11:54:22'}\n",
      "{'Symbol': 'BTC', 'Price': 16744.42, 'Updated_At': '19/12/2022 11:56:23'}\n",
      "{'Symbol': 'BTC', 'Price': 16753.27, 'Updated_At': '19/12/2022 11:58:25'}\n",
      "{'Symbol': 'BTC', 'Price': 16757.66, 'Updated_At': '19/12/2022 12:00:26'}\n",
      "{'Symbol': 'BTC', 'Price': 16759.79, 'Updated_At': '19/12/2022 12:02:27'}\n",
      "{'Symbol': 'BTC', 'Price': 16760.49, 'Updated_At': '19/12/2022 12:04:28'}\n",
      "{'Symbol': 'BTC', 'Price': 16748.1, 'Updated_At': '19/12/2022 12:06:29'}\n",
      "{'Symbol': 'BTC', 'Price': 16749.38, 'Updated_At': '19/12/2022 12:08:29'}\n",
      "{'Symbol': 'BTC', 'Price': 16753.51, 'Updated_At': '19/12/2022 12:10:30'}\n",
      "{'Symbol': 'BTC', 'Price': 16760.49, 'Updated_At': '19/12/2022 12:12:32'}\n",
      "{'Symbol': 'BTC', 'Price': 16753.94, 'Updated_At': '19/12/2022 12:14:32'}\n",
      "{'Symbol': 'BTC', 'Price': 16759.29, 'Updated_At': '19/12/2022 12:16:34'}\n",
      "{'Symbol': 'BTC', 'Price': 16758.67, 'Updated_At': '19/12/2022 12:18:35'}\n",
      "{'Symbol': 'BTC', 'Price': 16751.17, 'Updated_At': '19/12/2022 12:20:36'}\n",
      "{'Symbol': 'BTC', 'Price': 16777.86, 'Updated_At': '19/12/2022 12:22:37'}\n",
      "{'Symbol': 'BTC', 'Price': 16770.58, 'Updated_At': '19/12/2022 12:24:39'}\n",
      "{'Symbol': 'BTC', 'Price': 16775.57, 'Updated_At': '19/12/2022 12:26:39'}\n",
      "{'Symbol': 'BTC', 'Price': 16756.32, 'Updated_At': '19/12/2022 12:28:40'}\n",
      "{'Symbol': 'BTC', 'Price': 16774.79, 'Updated_At': '19/12/2022 12:30:41'}\n",
      "{'Symbol': 'BTC', 'Price': 16774.08, 'Updated_At': '19/12/2022 12:32:42'}\n",
      "{'Symbol': 'BTC', 'Price': 16763.65, 'Updated_At': '19/12/2022 12:34:44'}\n",
      "{'Symbol': 'BTC', 'Price': 16765.61, 'Updated_At': '19/12/2022 12:36:44'}\n",
      "{'Symbol': 'BTC', 'Price': 16765.85, 'Updated_At': '19/12/2022 12:38:45'}\n",
      "{'Symbol': 'BTC', 'Price': 16771.11, 'Updated_At': '19/12/2022 12:40:46'}\n",
      "{'Symbol': 'BTC', 'Price': 16774.69, 'Updated_At': '19/12/2022 12:42:47'}\n",
      "{'Symbol': 'BTC', 'Price': 16770.9, 'Updated_At': '19/12/2022 12:44:49'}\n",
      "{'Symbol': 'BTC', 'Price': 16772.51, 'Updated_At': '19/12/2022 12:46:49'}\n",
      "{'Symbol': 'BTC', 'Price': 16771.62, 'Updated_At': '19/12/2022 12:48:50'}\n",
      "{'Symbol': 'BTC', 'Price': 16773.15, 'Updated_At': '19/12/2022 12:50:51'}\n",
      "{'Symbol': 'BTC', 'Price': 16768.79, 'Updated_At': '19/12/2022 12:52:52'}\n",
      "{'Symbol': 'BTC', 'Price': 16764.18, 'Updated_At': '19/12/2022 12:54:54'}\n",
      "{'Symbol': 'BTC', 'Price': 16767.03, 'Updated_At': '19/12/2022 12:56:55'}\n",
      "{'Symbol': 'BTC', 'Price': 16770.6, 'Updated_At': '19/12/2022 12:58:56'}\n",
      "{'Symbol': 'BTC', 'Price': 16771.95, 'Updated_At': '19/12/2022 13:00:57'}\n",
      "{'Symbol': 'BTC', 'Price': 16769.25, 'Updated_At': '19/12/2022 13:02:58'}\n",
      "{'Symbol': 'BTC', 'Price': 16757.93, 'Updated_At': '19/12/2022 13:04:59'}\n",
      "{'Symbol': 'BTC', 'Price': 16768.14, 'Updated_At': '19/12/2022 13:07:00'}\n",
      "{'Symbol': 'BTC', 'Price': 16755.53, 'Updated_At': '19/12/2022 13:09:01'}\n",
      "{'Symbol': 'BTC', 'Price': 16752.19, 'Updated_At': '19/12/2022 13:11:02'}\n",
      "{'Symbol': 'BTC', 'Price': 16775.7, 'Updated_At': '19/12/2022 13:13:03'}\n",
      "{'Symbol': 'BTC', 'Price': 16751.55, 'Updated_At': '19/12/2022 13:15:04'}\n",
      "{'Symbol': 'BTC', 'Price': 16754.64, 'Updated_At': '19/12/2022 13:17:05'}\n",
      "{'Symbol': 'BTC', 'Price': 16754.94, 'Updated_At': '19/12/2022 13:19:06'}\n",
      "{'Symbol': 'BTC', 'Price': 16751.02, 'Updated_At': '19/12/2022 13:21:07'}\n",
      "{'Symbol': 'BTC', 'Price': 16749.37, 'Updated_At': '19/12/2022 13:23:09'}\n",
      "{'Symbol': 'BTC', 'Price': 16756.78, 'Updated_At': '19/12/2022 13:25:10'}\n",
      "{'Symbol': 'BTC', 'Price': 16750.37, 'Updated_At': '19/12/2022 13:27:11'}\n",
      "{'Symbol': 'BTC', 'Price': 16755.88, 'Updated_At': '19/12/2022 13:29:11'}\n",
      "{'Symbol': 'BTC', 'Price': 16753.29, 'Updated_At': '19/12/2022 13:31:12'}\n",
      "{'Symbol': 'BTC', 'Price': 16744.04, 'Updated_At': '19/12/2022 13:33:13'}\n",
      "{'Symbol': 'BTC', 'Price': 16750.2, 'Updated_At': '19/12/2022 13:35:14'}\n",
      "{'Symbol': 'BTC', 'Price': 16767.93, 'Updated_At': '19/12/2022 13:37:16'}\n",
      "{'Symbol': 'BTC', 'Price': 16753.0, 'Updated_At': '19/12/2022 13:39:17'}\n",
      "{'Symbol': 'BTC', 'Price': 16751.67, 'Updated_At': '19/12/2022 13:41:18'}\n",
      "{'Symbol': 'BTC', 'Price': 16750.58, 'Updated_At': '19/12/2022 13:43:19'}\n",
      "{'Symbol': 'BTC', 'Price': 16754.42, 'Updated_At': '19/12/2022 13:45:20'}\n",
      "{'Symbol': 'BTC', 'Price': 16749.3, 'Updated_At': '19/12/2022 13:47:22'}\n",
      "{'Symbol': 'BTC', 'Price': 16751.95, 'Updated_At': '19/12/2022 13:49:23'}\n",
      "{'Symbol': 'BTC', 'Price': 16732.56, 'Updated_At': '19/12/2022 13:51:24'}\n",
      "{'Symbol': 'BTC', 'Price': 16754.7, 'Updated_At': '19/12/2022 13:53:25'}\n",
      "{'Symbol': 'BTC', 'Price': 16750.66, 'Updated_At': '19/12/2022 13:55:26'}\n",
      "{'Symbol': 'BTC', 'Price': 16735.41, 'Updated_At': '19/12/2022 13:57:28'}\n",
      "{'Symbol': 'BTC', 'Price': 16734.03, 'Updated_At': '19/12/2022 13:59:28'}\n",
      "{'Symbol': 'BTC', 'Price': 16736.34, 'Updated_At': '19/12/2022 14:01:29'}\n",
      "{'Symbol': 'BTC', 'Price': 16736.77, 'Updated_At': '19/12/2022 14:03:30'}\n",
      "{'Symbol': 'BTC', 'Price': 16734.75, 'Updated_At': '19/12/2022 14:05:31'}\n",
      "{'Symbol': 'BTC', 'Price': 16736.14, 'Updated_At': '19/12/2022 14:07:32'}\n",
      "{'Symbol': 'BTC', 'Price': 16732.63, 'Updated_At': '19/12/2022 14:09:34'}\n",
      "{'Symbol': 'BTC', 'Price': 16725.04, 'Updated_At': '19/12/2022 14:11:34'}\n",
      "{'Symbol': 'BTC', 'Price': 16737.4, 'Updated_At': '19/12/2022 14:13:35'}\n",
      "{'Symbol': 'BTC', 'Price': 16736.41, 'Updated_At': '19/12/2022 14:15:36'}\n",
      "{'Symbol': 'BTC', 'Price': 16731.29, 'Updated_At': '19/12/2022 14:17:37'}\n",
      "{'Symbol': 'BTC', 'Price': 16730.78, 'Updated_At': '19/12/2022 14:19:38'}\n",
      "{'Symbol': 'BTC', 'Price': 16726.99, 'Updated_At': '19/12/2022 14:21:38'}\n",
      "{'Symbol': 'BTC', 'Price': 16735.66, 'Updated_At': '19/12/2022 14:23:39'}\n",
      "{'Symbol': 'BTC', 'Price': 16738.43, 'Updated_At': '19/12/2022 14:25:41'}\n",
      "{'Symbol': 'BTC', 'Price': 16739.63, 'Updated_At': '19/12/2022 14:27:41'}\n",
      "{'Symbol': 'BTC', 'Price': 16740.83, 'Updated_At': '19/12/2022 14:29:42'}\n",
      "{'Symbol': 'BTC', 'Price': 16733.98, 'Updated_At': '19/12/2022 14:31:43'}\n",
      "{'Symbol': 'BTC', 'Price': 16744.13, 'Updated_At': '19/12/2022 14:33:44'}\n",
      "{'Symbol': 'BTC', 'Price': 16733.98, 'Updated_At': '19/12/2022 14:35:45'}\n",
      "{'Symbol': 'BTC', 'Price': 16732.52, 'Updated_At': '19/12/2022 14:37:46'}\n",
      "{'Symbol': 'BTC', 'Price': 16731.4, 'Updated_At': '19/12/2022 14:39:46'}\n",
      "{'Symbol': 'BTC', 'Price': 16732.52, 'Updated_At': '19/12/2022 14:41:47'}\n",
      "{'Symbol': 'BTC', 'Price': 16750.55, 'Updated_At': '19/12/2022 14:43:49'}\n",
      "{'Symbol': 'BTC', 'Price': 16735.16, 'Updated_At': '19/12/2022 14:45:49'}\n"
     ]
    }
   ],
   "source": [
    "btc_list = []\n",
    "time_start = time.time()\n",
    "time_duration = 3 * 60 * 60 #set time duration after three hours\n",
    "while time.time() < time_start + time_duration:\n",
    "    btc_item = crawl_btc_price()\n",
    "    print(crawl_btc_price())\n",
    "    time.sleep(120)\n",
    "    btc_list.append(btc_item)"
   ]
  },
  {
   "cell_type": "markdown",
   "metadata": {},
   "source": [
    "## Connecting to MySQL using connector"
   ]
  },
  {
   "cell_type": "code",
   "execution_count": 67,
   "metadata": {},
   "outputs": [],
   "source": [
    "import os;\n",
    "from dotenv import load_dotenv;\n",
    "\n",
    "load_dotenv();\n",
    "\n",
    "dbHost = os.getenv('DB_HOST');\n",
    "dbUser = os.getenv('DB_USER');\n",
    "dbPwd = os.getenv('DB_PASSWORD');\n",
    "dbName = os.getenv('DB_NAME');\n",
    "\n",
    "cnx = mysql.connector.connect(user=dbUser, password=dbPwd,\n",
    "                              host=dbHost,\n",
    "                              database=dbName)\n",
    "cursor = cnx.cursor()"
   ]
  },
  {
   "cell_type": "markdown",
   "metadata": {
    "id": "RBdQLdqYGLK4"
   },
   "source": [
    "## Create a function to make an empty table to receive the crawling output"
   ]
  },
  {
   "cell_type": "code",
   "execution_count": 71,
   "metadata": {
    "id": "ypw1DH3CFXoa"
   },
   "outputs": [],
   "source": [
    "def create_table():\n",
    "    try:\n",
    "        print('Creating table btc_info', end='') # name of the new table is 'btc_info'\n",
    "        cursor.execute(\"CREATE TABLE IF NOT EXISTS btc_info (symbol VARCHAR(255), price FLOAT(24), updated_at VARCHAR(255))\")\n",
    "        #create btc_info containing three columns relevant to three pieces of information crawled from the web\n",
    "    except mysql.connector.Error as err:\n",
    "        if err.errno == errorcode.ER_TABLE_EXISTS_ERROR:\n",
    "            print(\"already exists.\")\n",
    "        else:\n",
    "            print(err.msg)\n",
    "    else:\n",
    "        print(\"OK\")"
   ]
  },
  {
   "cell_type": "markdown",
   "metadata": {},
   "source": [
    "## Create a function to insert crawled data into btc_info table"
   ]
  },
  {
   "cell_type": "code",
   "execution_count": 53,
   "metadata": {
    "id": "Ear8MyXqGF8b"
   },
   "outputs": [],
   "source": [
    "def insert_table(data_add):\n",
    "    create_table()\n",
    "    for dict_item in data_add:\n",
    "        placeholders = ','.join(['%s'] * len(dict_item))\n",
    "        columns = ','.join(dict_item.keys())\n",
    "        sql_add = \"INSERT INTO %s (%s) VALUES (%s)\" % ('btc_info', columns, placeholders)\n",
    "        cursor.execute(sql_add, list(dict_item.values()))\n",
    "    cnx.commit()"
   ]
  },
  {
   "cell_type": "code",
   "execution_count": 54,
   "metadata": {
    "id": "sOjW9G3lGYl8"
   },
   "outputs": [
    {
     "name": "stdout",
     "output_type": "stream",
     "text": [
      "Creating table btc_infoOK\n"
     ]
    }
   ],
   "source": [
    "insert_table(btc_list) # run the function to insert the data into the table"
   ]
  },
  {
   "cell_type": "markdown",
   "metadata": {},
   "source": [
    "## Do some queries to extract interesting information"
   ]
  },
  {
   "cell_type": "code",
   "execution_count": 62,
   "metadata": {},
   "outputs": [
    {
     "name": "stdout",
     "output_type": "stream",
     "text": [
      "(16777.9, '19/12/2022 12:22:37')\n",
      "(16770.6, '19/12/2022 12:24:39')\n",
      "(16775.6, '19/12/2022 12:26:39')\n",
      "(16774.8, '19/12/2022 12:30:41')\n",
      "(16774.1, '19/12/2022 12:32:42')\n",
      "(16771.1, '19/12/2022 12:40:46')\n",
      "(16774.7, '19/12/2022 12:42:47')\n",
      "(16770.9, '19/12/2022 12:44:48')\n",
      "(16772.5, '19/12/2022 12:46:49')\n",
      "(16771.6, '19/12/2022 12:48:50')\n",
      "(16773.2, '19/12/2022 12:50:51')\n",
      "(16770.6, '19/12/2022 12:58:56')\n",
      "(16771.9, '19/12/2022 13:00:57')\n",
      "(16775.7, '19/12/2022 13:13:03')\n"
     ]
    }
   ],
   "source": [
    "query = ('SELECT price, updated_at FROM btc_info WHERE price >= 16770')\n",
    "cursor.execute(query)\n",
    "myresult = cursor.fetchall()\n",
    "for i in myresult:\n",
    "    print(i)"
   ]
  },
  {
   "cell_type": "markdown",
   "metadata": {},
   "source": [
    "## Task done and stop the connection"
   ]
  },
  {
   "cell_type": "code",
   "execution_count": 72,
   "metadata": {},
   "outputs": [],
   "source": [
    "cursor.close()\n",
    "cnx.close()"
   ]
  }
 ],
 "metadata": {
  "colab": {
   "collapsed_sections": [],
   "provenance": []
  },
  "kernelspec": {
   "display_name": "Python 3 (ipykernel)",
   "language": "python",
   "name": "python3"
  },
  "language_info": {
   "codemirror_mode": {
    "name": "ipython",
    "version": 3
   },
   "file_extension": ".py",
   "mimetype": "text/x-python",
   "name": "python",
   "nbconvert_exporter": "python",
   "pygments_lexer": "ipython3",
   "version": "3.9.7"
  }
 },
 "nbformat": 4,
 "nbformat_minor": 1
}
